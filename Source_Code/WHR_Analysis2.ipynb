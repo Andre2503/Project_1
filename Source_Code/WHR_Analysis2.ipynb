{
 "cells": [
  {
   "cell_type": "code",
   "execution_count": null,
   "id": "bfc9ff85-2178-4d2d-9d73-2ece21c6f7f6",
   "metadata": {},
   "outputs": [],
   "source": [
    "#Dependecies \n",
    "import pandas as pd\n",
    "import matplotlib.pyplot as plt\n",
    "import scipy.stats as st\n",
    "import numpy as np\n",
    "\n",
    "# Python Api Dependencies\n",
    "import requests\n",
    "import json\n",
    "from pprint import pprint\n",
    "import hvplot.pandas\n",
    "from scipy.stats import linregress\n",
    "# conda install -c conda-forge geopandas\n",
    "import geopandas as gpd\n",
    "# pip install pycountry\n",
    "import pycountry\n",
    "from mplcursors import cursor  # separate package must be installed\n",
    "\n",
    "# Import the API key\n",
    "from api_keys import geoapify_key\n",
    "\n",
    "# Turn off warning messages\n",
    "import warnings\n",
    "warnings.filterwarnings(\"ignore\")"
   ]
  },
  {
   "cell_type": "code",
   "execution_count": null,
   "id": "01d1edde-2e2b-46bb-a258-c13d7016dc61",
   "metadata": {},
   "outputs": [],
   "source": [
    "# Read in the WHR_2023 data\n",
    "whr_df = pd.read_csv(\"../Resources/WHR_2023.csv\")\n",
    "whr_df.head()"
   ]
  },
  {
   "cell_type": "code",
   "execution_count": null,
   "id": "89479209-0aaf-4442-8b61-679058547c11",
   "metadata": {},
   "outputs": [],
   "source": [
    "#rename columns\n",
    "whr_df.columns = [\"Country\", \"Year\", \"Happiness Score\", \"GDP p/capita\", \"Social Support\",\n",
    "                  \"Healthy Life Expectancy\", \"Life Choices Freedom\", \"Generosity\",\n",
    "                  \"Corruption Perceptions\", \"Positive Affect\", \"Negative Effect\"]\n",
    "whr_df.head()"
   ]
  },
  {
   "cell_type": "code",
   "execution_count": null,
   "id": "ff78344a-e0af-4778-9802-22b2dd1ff6cc",
   "metadata": {},
   "outputs": [],
   "source": [
    "# Extract years that we are woprking with \n",
    "whr_clean_df = whr_df.loc[whr_df[\"Year\"] >= 2016]\n",
    "whr_clean_df"
   ]
  },
  {
   "cell_type": "code",
   "execution_count": null,
   "id": "894510c2-7540-449b-849e-764c50261533",
   "metadata": {},
   "outputs": [],
   "source": [
    "\n",
    "\n",
    "\n"
   ]
  },
  {
   "cell_type": "code",
   "execution_count": null,
   "id": "6a5771af-50b1-48c4-86dd-0d114b6efee6",
   "metadata": {},
   "outputs": [],
   "source": [
    "#group by year the clean df\n",
    "grouped_clean_df = whr_clean_df.groupby([\"Year\"]).mean()\n",
    "grouped_clean_df"
   ]
  },
  {
   "cell_type": "code",
   "execution_count": null,
   "id": "cac70c7b-f5c5-44f1-b570-cf976fa9bdd6",
   "metadata": {},
   "outputs": [],
   "source": [
    "#plot hapiness score over time 2016-2022\n",
    "x_axis = grouped_clean_df.index\n",
    "y_axis = grouped_clean_df[\"Happiness Score\"]\n",
    "plt.plot(x_axis, y_axis)\n",
    "plt.xticks(grouped_clean_df.index)\n",
    "plt.show()"
   ]
  },
  {
   "cell_type": "code",
   "execution_count": null,
   "id": "eb215841-2ce0-4ab0-844c-b7cde3b67fb7",
   "metadata": {},
   "outputs": [],
   "source": [
    "#plot Healthy Life Expectancy score over time 2016-2022\n",
    "x_axis = grouped_clean_df.index\n",
    "y_axis = grouped_clean_df[\"Healthy Life Expectancy\"]\n",
    "plt.plot(x_axis, y_axis)\n",
    "plt.xticks(grouped_clean_df.index)\n",
    "plt.show()"
   ]
  },
  {
   "cell_type": "code",
   "execution_count": null,
   "id": "f52e5d8e-2fd6-46fe-9640-07e364ef0446",
   "metadata": {},
   "outputs": [],
   "source": [
    "#plot GDP score over time 2016-2022\n",
    "x_axis = grouped_clean_df.index\n",
    "y_axis = grouped_clean_df[\"GDP p/capita\"]\n",
    "plt.plot(x_axis, y_axis)\n",
    "plt.xticks(grouped_clean_df.index)\n",
    "plt.show()"
   ]
  },
  {
   "cell_type": "code",
   "execution_count": null,
   "id": "21918d4e-f98e-47be-8d34-558d68bd867b",
   "metadata": {},
   "outputs": [],
   "source": [
    "# create a new df for pre-pandemic (2016-2019) \n",
    "pre_covid_df = whr_clean_df.loc[whr_clean_df[\"Year\"] <= 2019]\n",
    "pre_covid_df"
   ]
  },
  {
   "cell_type": "code",
   "execution_count": null,
   "id": "26f2ecf8-725b-4840-bec8-5ca882d789eb",
   "metadata": {},
   "outputs": [],
   "source": [
    "#create a post-pandemic data frame \n",
    "post_covid_df = whr_clean_df.loc[whr_clean_df[\"Year\"] >= 2020]\n",
    "post_covid_df"
   ]
  },
  {
   "cell_type": "code",
   "execution_count": null,
   "id": "13710aac-fcdf-447e-8f66-877084cfb7aa",
   "metadata": {},
   "outputs": [],
   "source": []
  },
  {
   "cell_type": "code",
   "execution_count": null,
   "id": "250e7d5c-9dc6-466d-bb8e-47a3bfe1b0fe",
   "metadata": {},
   "outputs": [],
   "source": [
    "# group post_covid_df by year and calculate mean of parameters \n",
    "grouped_post_covid = post_covid_df.groupby([\"Year\"]).mean()\n",
    "grouped_post_covid"
   ]
  },
  {
   "cell_type": "code",
   "execution_count": null,
   "id": "46f5fa79-df5e-4066-b7f1-d0d888578c8d",
   "metadata": {},
   "outputs": [],
   "source": [
    "# group pre_covid_df bu year and calculate mean of parameters \n",
    "grouped_pre_covid = pre_covid_df.groupby([\"Year\"]).mean()\n",
    "pre_covid = pd.DataFrame(grouped_pre_covid)\n",
    "pre_covid"
   ]
  },
  {
   "cell_type": "code",
   "execution_count": null,
   "id": "75fcf8ab-e6a1-426c-8613-8bb3a1e04229",
   "metadata": {},
   "outputs": [],
   "source": [
    "# plot test \n",
    "\n",
    "x_axis = pre_covid.index\n",
    "y_axis = pre_covid[\"Happiness Score\"]\n",
    "plt.bar(x_axis, y_axis)\n",
    "plt.xticks(pre_covid.index)\n",
    "plt.show()"
   ]
  },
  {
   "cell_type": "code",
   "execution_count": null,
   "id": "5fb13992-7402-43df-984d-393f4756b47e",
   "metadata": {},
   "outputs": [],
   "source": [
    "# read the depression file \n",
    "depression_df = pd.read_csv(\"../Resources/depression-rates-by-country-2023.csv\")\n",
    "depression_df.head()"
   ]
  },
  {
   "cell_type": "code",
   "execution_count": null,
   "id": "3fe03fb1-6822-46b4-b6f5-0c0452e248ca",
   "metadata": {},
   "outputs": [],
   "source": [
    "# rename columns \n",
    "depression_df.columns = [\"Country\", \"% of Pop with Depression\", \"Cases\", \"Pop-2023\"]\n",
    "depression_df"
   ]
  },
  {
   "cell_type": "code",
   "execution_count": null,
   "id": "0f5c5b81-78cd-42f6-b51a-c073e234da7f",
   "metadata": {
    "tags": []
   },
   "outputs": [],
   "source": []
  },
  {
   "cell_type": "code",
   "execution_count": null,
   "id": "4bc4b086-3840-453f-b40f-5c9be0d22981",
   "metadata": {
    "tags": []
   },
   "outputs": [],
   "source": [
    "# Python API\n",
    "# Create a dataframe for the country and longitue/latitude\n",
    "params = {\n",
    "    \"apiKey\": geoapify_key\n",
    "}\n",
    "\n",
    "# Build URL using the geocode endpoint\n",
    "base_url = \"https://api.geoapify.com/v1/geocode/search\"\n",
    "\n",
    "country_data = []\n",
    "\n",
    "country_list = whr_clean_df[\"Country\"].unique()\n",
    "print(f\"There are {len(country_list)} countries in total.\")\n",
    "\n",
    "# Go through list of countries to get coordinates\n",
    "for country in country_list:\n",
    "    params[\"country\"] = country\n",
    "    \n",
    "    # Run request\n",
    "    response = requests.get(base_url, params=params).json()\n",
    "    \n",
    "    try:\n",
    "        lat = response['features'][0]['properties']['lat']\n",
    "        long = response['features'][0]['properties']['lon']\n",
    "        a2code = response['features'][0]['properties']['country_code']\n",
    "        country_py = pycountry.countries.get(alpha_2=a2code)\n",
    "        a3code = country_py.alpha_3\n",
    "    except:\n",
    "        pass\n",
    "        \n",
    "    country_data.append({\"Country\": country,\n",
    "                        \"Latitude\": lat,\n",
    "                        \"Longitude\":long,\n",
    "                        \"Code_A3\" : a3code.upper()})\n",
    "    \n",
    "\n",
    "country_df = pd.DataFrame(country_data)\n",
    "country_df"
   ]
  },
  {
   "cell_type": "code",
   "execution_count": null,
   "id": "40d2c42a-7689-44e4-a955-a6f13223a783",
   "metadata": {},
   "outputs": [],
   "source": []
  },
  {
   "cell_type": "code",
   "execution_count": null,
   "id": "af296ed6-f29e-40a1-b509-e38bb9d62695",
   "metadata": {
    "tags": []
   },
   "outputs": [],
   "source": [
    "#Show the participating countries\n",
    "# Configure the map plot\n",
    "country_map_plot = country_df.hvplot.points(\n",
    "    \"Longitude\",\n",
    "    \"Latitude\",\n",
    "    geo = True,\n",
    "    tiles = \"ESRI\",\n",
    "    frame_width = 800,\n",
    "    frame_height = 600,\n",
    "    #size = \"Humidity\",\n",
    "    scale = 0.5,\n",
    "    color = \"Country\"\n",
    "\n",
    ")\n",
    "\n",
    "# Display the map\n",
    "country_map_plot"
   ]
  },
  {
   "cell_type": "code",
   "execution_count": null,
   "id": "f69451d3-69bc-4188-a272-4f01f193f220",
   "metadata": {
    "tags": []
   },
   "outputs": [],
   "source": [
    "# Save original dataframe to a working dataframe\n",
    "world_happiness_df = whr_clean_df\n",
    "world_happiness_df"
   ]
  },
  {
   "cell_type": "code",
   "execution_count": null,
   "id": "6cf877fb-e2c0-477c-b4fb-0312bb712ae1",
   "metadata": {
    "tags": []
   },
   "outputs": [],
   "source": [
    "# Create Happiness average score per country\n",
    "whr_clean_group_df = whr_clean_df.groupby(\"Country\").mean()\n",
    "# Merge the two DataFrames, WHR and Country coordinates, together based on the Country Name they share\n",
    "merged_country_happiness_df = pd.merge(whr_clean_group_df, country_df, on=[\"Country\"])\n",
    "merged_country_happiness_df"
   ]
  },
  {
   "cell_type": "code",
   "execution_count": null,
   "id": "1f892a25-fa87-41ba-87f3-af9fb2e787d4",
   "metadata": {
    "tags": []
   },
   "outputs": [],
   "source": [
    "# Merge the two DataFrames, WHR with coordinates and Depression data, together based on the Country Name they share\n",
    "#\n",
    "# IMPORTANT NOTE: Depression rate was dated 2023 ???\n",
    "#\n",
    "happiness_depression_df = pd.merge(merged_country_happiness_df, depression_df, on=[\"Country\"])\n",
    "happiness_depression_df"
   ]
  },
  {
   "cell_type": "code",
   "execution_count": null,
   "id": "41d27e8c-7c00-46f5-ad62-f7660a15e9d0",
   "metadata": {
    "tags": []
   },
   "outputs": [],
   "source": [
    "# Display top 10 countries with highest Happiness Score\n",
    "happiness_depression_df = happiness_depression_df.sort_values(\"Happiness Score\", ascending=False)\n",
    "country_happiness_df = happiness_depression_df.iloc[0:10, :].set_index(\"Country\")\n",
    "x_axis = country_happiness_df.index\n",
    "y_axis = country_happiness_df[\"Happiness Score\"]\n",
    "plt.bar(x_axis, y_axis)\n",
    "plt.xticks(country_happiness_df.index, rotation=50, ha=\"right\")\n",
    "plt.ylabel(\"Happiness Score\")\n",
    "plt.show()\n"
   ]
  },
  {
   "cell_type": "code",
   "execution_count": null,
   "id": "220c191e-09d3-4148-9d1b-a89e2243c91e",
   "metadata": {
    "tags": []
   },
   "outputs": [],
   "source": [
    "# Display top 10 countries with lowest Happiness Score\n",
    "happiness_depression_df = happiness_depression_df.sort_values(\"Happiness Score\")\n",
    "country_happiness_df = happiness_depression_df.iloc[0:10, :].set_index(\"Country\")\n",
    "x_axis = country_happiness_df.index\n",
    "y_axis = country_happiness_df[\"Happiness Score\"]\n",
    "plt.bar(x_axis, y_axis)\n",
    "plt.xticks(country_happiness_df.index, rotation=50, ha=\"right\")\n",
    "plt.ylabel(\"Happiness Score\")\n",
    "plt.show()"
   ]
  },
  {
   "cell_type": "code",
   "execution_count": null,
   "id": "1077a15e-e9af-435e-97e1-fc7da1890ea2",
   "metadata": {
    "tags": []
   },
   "outputs": [],
   "source": [
    "# Display top 5 countries with highest depression\n",
    "happiness_depression_df = happiness_depression_df.sort_values(\"% of Pop with Depression\", ascending=False)\n",
    "country_depression_df = happiness_depression_df.iloc[0:10, :].set_index(\"Country\")\n",
    "x_axis = country_depression_df.index\n",
    "y_axis = country_depression_df[\"% of Pop with Depression\"]\n",
    "plt.bar(x_axis, y_axis)\n",
    "plt.xticks(country_depression_df.index, rotation=50, ha=\"right\")\n",
    "plt.ylabel(\"% of Pop with Depression\")\n",
    "plt.show()\n"
   ]
  },
  {
   "cell_type": "code",
   "execution_count": null,
   "id": "432258db-24b2-42ed-b7a2-375336b44c22",
   "metadata": {
    "tags": []
   },
   "outputs": [],
   "source": [
    "# Display top 5 countries with lowest depression\n",
    "happiness_depression_df = happiness_depression_df.sort_values(\"% of Pop with Depression\")\n",
    "country_depression_df = happiness_depression_df.iloc[0:10, :].set_index(\"Country\")\n",
    "x_axis = country_depression_df.index\n",
    "y_axis = country_depression_df[\"% of Pop with Depression\"]\n",
    "plt.bar(x_axis, y_axis)\n",
    "plt.xticks(country_depression_df.index, rotation=50, ha=\"right\")\n",
    "plt.ylabel(\"% of Pop with Depression\")\n",
    "plt.show()\n"
   ]
  },
  {
   "cell_type": "markdown",
   "id": "577237d8-53d7-4ac5-843c-71bb616cae68",
   "metadata": {},
   "source": [
    "# Show plot based on lacation and the happiness score/% of population with depression (side by side) marked by color intensity"
   ]
  },
  {
   "cell_type": "code",
   "execution_count": null,
   "id": "ad7efcd2-08fb-4ad4-89ee-9fedfc35d7d7",
   "metadata": {
    "tags": []
   },
   "outputs": [],
   "source": [
    "\n",
    "# Read country map images\n",
    "world_maps = gpd.read_file(gpd.datasets.get_path('naturalearth_lowres'))\n",
    "\n",
    "# Merge your data with the map data\n",
    "world_happiness_merged = world_maps.merge(happiness_depression_df, left_on='iso_a3', right_on='Code_A3')\n",
    "\n",
    "# Plot the map with colored tiles\n",
    "fig, ax = plt.subplots(1, 2, figsize=(18, 8))\n",
    "\n",
    "world_happiness_merged.plot(column='Happiness Score', cmap='viridis', linewidth=0.4, ax=ax[0], legend=True, legend_kwds={'label': \"Happiness Score\"})\n",
    "ax[0].set_title('Country Happiness Score')\n",
    "ax[0].set_ylabel(\"Latitude\")\n",
    "ax[0].set_xlabel(\"Longitude\")\n",
    "\n",
    "# world_happiness_merged contains depression data too\n",
    "world_depression_merged = world_happiness_merged\n",
    "\n",
    "\n",
    "# getting the original colormap using cm.get_cmap() function\n",
    "orig_map=plt.cm.get_cmap('viridis')\n",
    "  \n",
    "# reversing the original colormap using reversed() function\n",
    "reversed_map = orig_map.reversed()\n",
    "\n",
    "world_depression_merged.plot(column='% of Pop with Depression', cmap=reversed_map, linewidth=0.4, ax=ax[1], legend=True, legend_kwds={'label': \"% of Population with Depression\"})\n",
    "ax[1].set_title('Country % of Population with Depression')\n",
    "ax[1].set_ylabel(\"Latitude\")\n",
    "ax[1].set_xlabel(\"Longitude\")\n",
    "\n",
    "plt.show()"
   ]
  },
  {
   "cell_type": "markdown",
   "id": "65166798-747a-4ab7-a9a9-b3138d192cfe",
   "metadata": {
    "tags": []
   },
   "source": [
    "# Show plot based on lacation and the happiness score marked by color intensity"
   ]
  },
  {
   "cell_type": "code",
   "execution_count": null,
   "id": "a29307d0-4987-4182-bedb-298b3c524170",
   "metadata": {
    "tags": []
   },
   "outputs": [],
   "source": [
    "\n",
    "# Read country map images\n",
    "world_maps = gpd.read_file(gpd.datasets.get_path('naturalearth_lowres'))\n",
    "\n",
    "# Merge your data with the map data\n",
    "world_happiness_merged = world_maps.merge(happiness_depression_df, left_on='iso_a3', right_on='Code_A3')\n",
    "\n",
    "# Plot the map with colored tiles\n",
    "fig, ax = plt.subplots(1, figsize=(12, 6))\n",
    "\n",
    "world_happiness_merged.plot(column='Happiness Score', cmap='viridis', linewidth=0.4, ax=ax, legend=True, legend_kwds={'label': \"Happiness Score\"})\n",
    "ax.set_title('Country Happiness Score')\n",
    "ax.set_ylabel(\"Latitude\")\n",
    "ax.set_xlabel(\"Longitude\")\n",
    "plt.show()"
   ]
  },
  {
   "cell_type": "markdown",
   "id": "846288be-8c7d-4a26-8f94-755d0c2930e0",
   "metadata": {
    "tags": []
   },
   "source": [
    "# Show plot based on lacation and the % of Population with Depression score marked by color intensity"
   ]
  },
  {
   "cell_type": "code",
   "execution_count": null,
   "id": "cd950eda-bca9-4507-a85a-4ed35abfffd6",
   "metadata": {
    "tags": []
   },
   "outputs": [],
   "source": [
    "# Use previously read country map images\n",
    "\n",
    "# world_happiness_merged contains depression data too\n",
    "world_depression_merged = world_happiness_merged\n",
    "\n",
    "# Plot the map with colored tiles\n",
    "fig, ax = plt.subplots(1, figsize=(12, 6))\n",
    "\n",
    "# getting the original colormap using cm.get_cmap() function\n",
    "orig_map=plt.cm.get_cmap('viridis')\n",
    "  \n",
    "# reversing the original colormap using reversed() function\n",
    "reversed_map = orig_map.reversed()\n",
    "\n",
    "world_depression_merged.plot(column='% of Pop with Depression', cmap=reversed_map, linewidth=0.4, ax=ax, legend=True, legend_kwds={'label': \"% of Population with Depression\"})\n",
    "ax.set_title('Country % of Population with Depression')\n",
    "ax.set_ylabel(\"Latitude\")\n",
    "ax.set_xlabel(\"Longitude\")\n",
    "plt.show()"
   ]
  },
  {
   "cell_type": "code",
   "execution_count": null,
   "id": "e749a8ff-667c-41ba-b53f-f87b7b00ad01",
   "metadata": {},
   "outputs": [],
   "source": []
  },
  {
   "cell_type": "code",
   "execution_count": null,
   "id": "76b42fc4-5f8d-4ada-ac93-a53f86059c49",
   "metadata": {},
   "outputs": [],
   "source": []
  },
  {
   "cell_type": "code",
   "execution_count": null,
   "id": "ed4964d6-f080-4d24-8793-c433a5542b6f",
   "metadata": {},
   "outputs": [],
   "source": []
  },
  {
   "cell_type": "markdown",
   "id": "6318c981-0622-4e70-b359-8663a11a032d",
   "metadata": {},
   "source": [
    "# Display Happiness Score in box plots for Finland(top), Afghanistan(bottom) & Australia"
   ]
  },
  {
   "cell_type": "code",
   "execution_count": null,
   "id": "c6af1f49-b239-4b52-b3a7-ae98b3ea600a",
   "metadata": {
    "tags": []
   },
   "outputs": [],
   "source": [
    "# Display box plots for 3 countries to show happiness outliers (Australia, Finland, Afghanistan)\n",
    "happiness_df = pd.DataFrame()\n",
    "\n",
    "# Calculate the IQR and quantitatively determine if there are any potential outliers. \n",
    "for country in country_list:\n",
    "\n",
    "    # Locate the rows for specific countries and get Happiness Score\n",
    "    score = world_happiness_df.loc[world_happiness_df[\"Country\"]==country, \"Happiness Score\"]\n",
    "\n",
    "    # add subset \n",
    "    happiness_df[\"Score\"] = pd.DataFrame(score.tolist())\n",
    "    happiness_df[country] = pd.DataFrame(score.tolist())\n",
    "    \n",
    "    # Determine outliers using upper and lower bounds\n",
    "    quartiles = happiness_df[\"Score\"].quantile([0.25,0.5,0.75])\n",
    "    lowerq = quartiles[0.25]\n",
    "    upperq = quartiles[0.75]\n",
    "    iqr = upperq-lowerq\n",
    "\n",
    "    lower_bound = lowerq - (1.5*iqr)\n",
    "    upper_bound = upperq + (1.5*iqr)\n",
    "    \n",
    "    outliers = happiness_df.loc[happiness_df[\"Score\"]<lower_bound, \"Score\"]\n",
    "    print(f\"{country} potential outliers: {outliers}\")\n",
    "\n",
    "\n",
    "ax = happiness_df[[\"Finland\", \"Afghanistan\", \"Australia\"]].plot(kind='box', sym='r')\n",
    "\n",
    "ax.set_ylabel('Happiness Score')\n",
    "plt.show()\n",
    "\n"
   ]
  },
  {
   "cell_type": "code",
   "execution_count": null,
   "id": "10406f15-33b5-4e3e-8f49-08a1ac7eba28",
   "metadata": {},
   "outputs": [],
   "source": [
    "# Create Happiness average score per year for all countries to represent the world\n",
    "average_happiness_year_df = world_happiness_df.groupby(\"Year\").mean()\n",
    "average_happiness_year_df.head()\n"
   ]
  },
  {
   "cell_type": "markdown",
   "id": "2109cff0-22ad-46e3-83b4-33b6296c8920",
   "metadata": {},
   "source": [
    "# Display Hppiness Score box plot for World,Australia, Finland"
   ]
  },
  {
   "cell_type": "code",
   "execution_count": null,
   "id": "4d4fb42f-6dcc-4522-b782-c0cff21003fe",
   "metadata": {
    "tags": []
   },
   "outputs": [],
   "source": [
    "# Create box plots to compare the World, Australia and Finland\n",
    "index = 0\n",
    "for row in list(happiness_df[\"Finland\"]):\n",
    "    happiness_df[\"World\"] = average_happiness_year_df.iloc[index, 0]\n",
    "    index = index + 1\n",
    "    \n",
    "\n",
    "ax = happiness_df[[\"World\", \"Australia\", \"Finland\"]].plot(kind='box', sym='r')\n",
    "ax.set_ylabel('Happiness Score')\n",
    "\n",
    "plt.show()"
   ]
  },
  {
   "cell_type": "code",
   "execution_count": null,
   "id": "18b9fc6f-69f7-48d2-ac68-4a6c388d9b1a",
   "metadata": {
    "tags": []
   },
   "outputs": [],
   "source": [
    "# Define a function to create Linear Regression plots\n",
    "def plot_linear_regression(main_df, xcolumn_str, ycolumn_str):\n",
    "\n",
    "    # Drop rows with null\n",
    "    main_df = main_df.dropna()\n",
    "    \n",
    "    x_values = main_df[xcolumn_str]\n",
    "    y_values = main_df[ycolumn_str]\n",
    "    # Build the scatter plots \n",
    "    plt.scatter(x_values, y_values, marker='o', c=y_values)\n",
    "\n",
    "    # Incorporate the other graph properties\n",
    "    plt.title(f\"{xcolumn_str} vs. {ycolumn_str}\")\n",
    "    plt.ylabel(ycolumn_str)\n",
    "    plt.xlabel(xcolumn_str)\n",
    "\n",
    "    (slope, intercept, rvalue, pvalue, stderr) = linregress(x_values, y_values)\n",
    "    \n",
    "    # Get regression values\n",
    "    regress_values = x_values * slope + intercept\n",
    "    \n",
    "    # Create line equation string\n",
    "    line_eq = \"y = \" + str(round(slope,2)) + \"x +\" + str(round(intercept,2))\n",
    "\n",
    "    plt.plot(x_values,regress_values,\"r-\")\n",
    "\n",
    "    # Label plot and annotate the line equation\n",
    "    x = x_values.min()\n",
    "    y = y_values.min()\n",
    "    plt.annotate(line_eq,(x, y),fontsize=15,color=\"red\")\n",
    "\n",
    "    # Print r value\n",
    "    print(f\"The r-value is: {rvalue**2}\")\n",
    "\n",
    "    # Show plot\n",
    "    plt.show()\n",
    "\n",
    "    return"
   ]
  },
  {
   "cell_type": "markdown",
   "id": "7015732d-d881-4d74-92f1-a41f8818f0f9",
   "metadata": {},
   "source": [
    "# GDP p/capita vs Happiness Score"
   ]
  },
  {
   "cell_type": "code",
   "execution_count": null,
   "id": "c2f54a0a-9482-418f-9373-0144c4c8a580",
   "metadata": {
    "tags": []
   },
   "outputs": [],
   "source": [
    "# Plot GDP vs Happiness Score\n",
    "plot_linear_regression(happiness_depression_df, \"GDP p/capita\", \"Happiness Score\")\n"
   ]
  },
  {
   "cell_type": "markdown",
   "id": "97afff84-1032-4da7-9b8b-a046ea3a789c",
   "metadata": {
    "tags": []
   },
   "source": [
    "#### GDP p/capita vs Happiness Score has a moderate correlation."
   ]
  },
  {
   "cell_type": "code",
   "execution_count": null,
   "id": "66853d04-80e1-4115-89ed-df3b5afc9465",
   "metadata": {},
   "outputs": [],
   "source": []
  },
  {
   "cell_type": "markdown",
   "id": "0c03d5c7-8263-43e9-8a89-1adbb430b5d0",
   "metadata": {},
   "source": [
    "# GDP p/capita vs % of Pop with Depression"
   ]
  },
  {
   "cell_type": "code",
   "execution_count": null,
   "id": "49588724-d2ae-48db-843f-b17d14f9f398",
   "metadata": {
    "tags": []
   },
   "outputs": [],
   "source": [
    "# Plot GDP vs Depression %\n",
    "plot_linear_regression(happiness_depression_df, \"GDP p/capita\", \"% of Pop with Depression\")\n"
   ]
  },
  {
   "cell_type": "markdown",
   "id": "0aa7241c-d7ac-465a-bccf-41f668ee8a22",
   "metadata": {
    "tags": []
   },
   "source": [
    "#### GDP p/capita vs % of Pop with Depression has a weak correlation."
   ]
  },
  {
   "cell_type": "code",
   "execution_count": null,
   "id": "56cd31b3-37d6-4296-8b3f-054d9a48c556",
   "metadata": {},
   "outputs": [],
   "source": []
  },
  {
   "cell_type": "markdown",
   "id": "e0d412cd-24c4-487b-8f45-a710765394d2",
   "metadata": {},
   "source": [
    "# Happiness Score vs % of Population with Depression"
   ]
  },
  {
   "cell_type": "code",
   "execution_count": null,
   "id": "37c2543f-1f68-4eef-98a6-bfebf238258e",
   "metadata": {
    "tags": []
   },
   "outputs": [],
   "source": [
    "# Plot GDP vs Depression %\n",
    "plot_linear_regression(happiness_depression_df, \"Happiness Score\", \"% of Pop with Depression\")"
   ]
  },
  {
   "cell_type": "markdown",
   "id": "bb01f015-d973-438e-8640-cb8e576e90c9",
   "metadata": {},
   "source": [
    "#### Happiness vs % of Population with Depression has very weak or no correlation at all."
   ]
  },
  {
   "cell_type": "code",
   "execution_count": null,
   "id": "c4b2d1aa-af58-4430-9eb1-3e55198c784a",
   "metadata": {},
   "outputs": [],
   "source": []
  }
 ],
 "metadata": {
  "kernelspec": {
   "display_name": "“PythonData”",
   "language": "python",
   "name": "pythondata"
  },
  "language_info": {
   "codemirror_mode": {
    "name": "ipython",
    "version": 3
   },
   "file_extension": ".py",
   "mimetype": "text/x-python",
   "name": "python",
   "nbconvert_exporter": "python",
   "pygments_lexer": "ipython3",
   "version": "3.11.4"
  }
 },
 "nbformat": 4,
 "nbformat_minor": 5
}

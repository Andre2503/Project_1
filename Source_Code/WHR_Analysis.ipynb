{
 "cells": [
  {
   "cell_type": "markdown",
   "id": "577237d8-53d7-4ac5-843c-71bb616cae68",
   "metadata": {},
   "source": [
    "# Show plot based on lacation and the happiness score/% of population with depression (side by side) marked by color intensity"
   ]
  },
  {
   "cell_type": "markdown",
   "id": "65166798-747a-4ab7-a9a9-b3138d192cfe",
   "metadata": {
    "tags": []
   },
   "source": [
    "# Show plot based on lacation and the happiness score marked by color intensity"
   ]
  },
  {
   "cell_type": "markdown",
   "id": "846288be-8c7d-4a26-8f94-755d0c2930e0",
   "metadata": {
    "tags": []
   },
   "source": [
    "# Show plot based on lacation and the % of Population with Depression score marked by color intensity"
   ]
  },
  {
   "cell_type": "code",
   "execution_count": null,
   "id": "c4b2d1aa-af58-4430-9eb1-3e55198c784a",
   "metadata": {},
   "outputs": [],
   "source": []
  }
 ],
 "metadata": {
  "kernelspec": {
   "display_name": "“PythonData”",
   "language": "python",
   "name": "pythondata"
  },
  "language_info": {
   "codemirror_mode": {
    "name": "ipython",
    "version": 3
   },
   "file_extension": ".py",
   "mimetype": "text/x-python",
   "name": "python",
   "nbconvert_exporter": "python",
   "pygments_lexer": "ipython3",
   "version": "3.11.4"
  }
 },
 "nbformat": 4,
 "nbformat_minor": 5
}
